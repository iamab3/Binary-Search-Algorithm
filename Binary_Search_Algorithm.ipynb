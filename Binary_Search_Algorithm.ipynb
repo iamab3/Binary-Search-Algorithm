{
 "cells": [
  {
   "cell_type": "code",
   "execution_count": 62,
   "metadata": {},
   "outputs": [],
   "source": [
    "# To create binary search algorithm by creating a function that takes a list and a target parameter as input\n",
    "# Once the target parameter is found, return its index in the list"
   ]
  },
  {
   "cell_type": "code",
   "execution_count": 63,
   "metadata": {},
   "outputs": [],
   "source": [
    "# Taking input\n",
    "List_len = int(input(\"Enter the length of the list: \"))\n",
    "\n",
    "# Taking input of the list\n",
    "Init_list = []\n",
    "for i in range(List_len):\n",
    "    value = (input(\"Enter the \" + str(i) + \" element: \"))\n",
    "    Init_list += (value)\n",
    "\n",
    "# Sorting the list\n",
    "Init_list.sort()\n",
    "\n",
    "# Converting str to int\n",
    "for num in range(List_len):\n",
    "    Init_list[num] = int(Init_list[num])\n",
    "\n",
    "# Taking target parameter as input\n",
    "target_para = int(input(\"Enter the target parameter: \"))"
   ]
  },
  {
   "cell_type": "code",
   "execution_count": 64,
   "metadata": {},
   "outputs": [],
   "source": [
    "# Binary search algorithm function\n",
    "def binary_search(list, element):\n",
    "    start=0\n",
    "    end=len(list)\n",
    "    step=0\n",
    "    i=0\n",
    "    while(i>=start or i<= end):\n",
    "        print(\"Step\", step, \":\", str(list[start:end+1]))\n",
    "        step += 1\n",
    "        i= (start+end)//2\n",
    "        if list[i] == element:\n",
    "            return i\n",
    "        elif list[i] > element:\n",
    "            end = i-1\n",
    "        else:\n",
    "            start = i+1\n",
    "    "
   ]
  },
  {
   "cell_type": "code",
   "execution_count": 65,
   "metadata": {},
   "outputs": [
    {
     "name": "stdout",
     "output_type": "stream",
     "text": [
      "Step 0 : [2, 4, 6]\n",
      "Step 1 : [6]\n"
     ]
    },
    {
     "data": {
      "text/plain": [
       "2"
      ]
     },
     "execution_count": 65,
     "metadata": {},
     "output_type": "execute_result"
    }
   ],
   "source": [
    "# Running the Binary Search function\n",
    "binary_search(Init_list, target_para)"
   ]
  }
 ],
 "metadata": {
  "kernelspec": {
   "display_name": "Python 3",
   "language": "python",
   "name": "python3"
  },
  "language_info": {
   "codemirror_mode": {
    "name": "ipython",
    "version": 3
   },
   "file_extension": ".py",
   "mimetype": "text/x-python",
   "name": "python",
   "nbconvert_exporter": "python",
   "pygments_lexer": "ipython3",
   "version": "3.8.8"
  }
 },
 "nbformat": 4,
 "nbformat_minor": 2
}
